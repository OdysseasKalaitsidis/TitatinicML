{
 "cells": [
  {
   "cell_type": "code",
   "execution_count": 442,
   "id": "6ab5258f-6f96-440c-a66f-cc8f6899affc",
   "metadata": {},
   "outputs": [],
   "source": [
    "import numpy as np # linear algebra\n",
    "import pandas as pd # data processing, CSV file I/O (e.g. pd.read_csv)\n",
    "import matplotlib.pyplot as plt\n",
    "import seaborn as sns\n",
    "from sklearn.linear_model import LogisticRegression\n",
    "from sklearn import metrics \n",
    "from sklearn.metrics import confusion_matrix \n",
    "from sklearn.metrics import accuracy_score \n",
    "from sklearn.metrics import classification_report \n",
    "from sklearn.model_selection import train_test_split\n",
    "from sklearn.ensemble import RandomForestClassifier\n",
    "from sklearn.metrics import mean_squared_error\n",
    "\n",
    "import xgboost as xgb\n",
    "\n",
    "\n"
   ]
  },
  {
   "cell_type": "markdown",
   "id": "c9c29951-62e3-4142-bd8d-77a9a8ee83cf",
   "metadata": {},
   "source": [
    "# READ THE CSV'S \n"
   ]
  },
  {
   "cell_type": "code",
   "execution_count": 443,
   "id": "252c7b16-478e-458a-90b5-033110622999",
   "metadata": {},
   "outputs": [],
   "source": [
    "# Read the original CSV files (only once)\n",
    "train_original = pd.read_csv('train.csv')\n",
    "test_original = pd.read_csv('test.csv')\n",
    "y_test = pd.read_csv('gender_submission.csv')"
   ]
  },
  {
   "cell_type": "code",
   "execution_count": 444,
   "id": "74c76318-cf6e-48e5-a781-ce095ad5a18e",
   "metadata": {},
   "outputs": [],
   "source": [
    "# Copy the original data to DataFrames for manipulation\n",
    "train = train_original.copy()\n",
    "X_test = test_original.copy()"
   ]
  },
  {
   "cell_type": "markdown",
   "id": "ecb84d67-c29f-4989-bd0a-70556f1f5b30",
   "metadata": {},
   "source": [
    "## Inspect the dataset"
   ]
  },
  {
   "cell_type": "code",
   "execution_count": 445,
   "id": "73046854-bec1-42d3-a770-4cf9e593e419",
   "metadata": {},
   "outputs": [
    {
     "data": {
      "text/html": [
       "<div>\n",
       "<style scoped>\n",
       "    .dataframe tbody tr th:only-of-type {\n",
       "        vertical-align: middle;\n",
       "    }\n",
       "\n",
       "    .dataframe tbody tr th {\n",
       "        vertical-align: top;\n",
       "    }\n",
       "\n",
       "    .dataframe thead th {\n",
       "        text-align: right;\n",
       "    }\n",
       "</style>\n",
       "<table border=\"1\" class=\"dataframe\">\n",
       "  <thead>\n",
       "    <tr style=\"text-align: right;\">\n",
       "      <th></th>\n",
       "      <th>PassengerId</th>\n",
       "      <th>Survived</th>\n",
       "      <th>Pclass</th>\n",
       "      <th>Name</th>\n",
       "      <th>Sex</th>\n",
       "      <th>Age</th>\n",
       "      <th>SibSp</th>\n",
       "      <th>Parch</th>\n",
       "      <th>Ticket</th>\n",
       "      <th>Fare</th>\n",
       "      <th>Cabin</th>\n",
       "      <th>Embarked</th>\n",
       "    </tr>\n",
       "  </thead>\n",
       "  <tbody>\n",
       "    <tr>\n",
       "      <th>0</th>\n",
       "      <td>1</td>\n",
       "      <td>0</td>\n",
       "      <td>3</td>\n",
       "      <td>Braund, Mr. Owen Harris</td>\n",
       "      <td>male</td>\n",
       "      <td>22.0</td>\n",
       "      <td>1</td>\n",
       "      <td>0</td>\n",
       "      <td>A/5 21171</td>\n",
       "      <td>7.2500</td>\n",
       "      <td>NaN</td>\n",
       "      <td>S</td>\n",
       "    </tr>\n",
       "    <tr>\n",
       "      <th>1</th>\n",
       "      <td>2</td>\n",
       "      <td>1</td>\n",
       "      <td>1</td>\n",
       "      <td>Cumings, Mrs. John Bradley (Florence Briggs Th...</td>\n",
       "      <td>female</td>\n",
       "      <td>38.0</td>\n",
       "      <td>1</td>\n",
       "      <td>0</td>\n",
       "      <td>PC 17599</td>\n",
       "      <td>71.2833</td>\n",
       "      <td>C85</td>\n",
       "      <td>C</td>\n",
       "    </tr>\n",
       "    <tr>\n",
       "      <th>2</th>\n",
       "      <td>3</td>\n",
       "      <td>1</td>\n",
       "      <td>3</td>\n",
       "      <td>Heikkinen, Miss. Laina</td>\n",
       "      <td>female</td>\n",
       "      <td>26.0</td>\n",
       "      <td>0</td>\n",
       "      <td>0</td>\n",
       "      <td>STON/O2. 3101282</td>\n",
       "      <td>7.9250</td>\n",
       "      <td>NaN</td>\n",
       "      <td>S</td>\n",
       "    </tr>\n",
       "    <tr>\n",
       "      <th>3</th>\n",
       "      <td>4</td>\n",
       "      <td>1</td>\n",
       "      <td>1</td>\n",
       "      <td>Futrelle, Mrs. Jacques Heath (Lily May Peel)</td>\n",
       "      <td>female</td>\n",
       "      <td>35.0</td>\n",
       "      <td>1</td>\n",
       "      <td>0</td>\n",
       "      <td>113803</td>\n",
       "      <td>53.1000</td>\n",
       "      <td>C123</td>\n",
       "      <td>S</td>\n",
       "    </tr>\n",
       "    <tr>\n",
       "      <th>4</th>\n",
       "      <td>5</td>\n",
       "      <td>0</td>\n",
       "      <td>3</td>\n",
       "      <td>Allen, Mr. William Henry</td>\n",
       "      <td>male</td>\n",
       "      <td>35.0</td>\n",
       "      <td>0</td>\n",
       "      <td>0</td>\n",
       "      <td>373450</td>\n",
       "      <td>8.0500</td>\n",
       "      <td>NaN</td>\n",
       "      <td>S</td>\n",
       "    </tr>\n",
       "  </tbody>\n",
       "</table>\n",
       "</div>"
      ],
      "text/plain": [
       "   PassengerId  Survived  Pclass  \\\n",
       "0            1         0       3   \n",
       "1            2         1       1   \n",
       "2            3         1       3   \n",
       "3            4         1       1   \n",
       "4            5         0       3   \n",
       "\n",
       "                                                Name     Sex   Age  SibSp  \\\n",
       "0                            Braund, Mr. Owen Harris    male  22.0      1   \n",
       "1  Cumings, Mrs. John Bradley (Florence Briggs Th...  female  38.0      1   \n",
       "2                             Heikkinen, Miss. Laina  female  26.0      0   \n",
       "3       Futrelle, Mrs. Jacques Heath (Lily May Peel)  female  35.0      1   \n",
       "4                           Allen, Mr. William Henry    male  35.0      0   \n",
       "\n",
       "   Parch            Ticket     Fare Cabin Embarked  \n",
       "0      0         A/5 21171   7.2500   NaN        S  \n",
       "1      0          PC 17599  71.2833   C85        C  \n",
       "2      0  STON/O2. 3101282   7.9250   NaN        S  \n",
       "3      0            113803  53.1000  C123        S  \n",
       "4      0            373450   8.0500   NaN        S  "
      ]
     },
     "execution_count": 445,
     "metadata": {},
     "output_type": "execute_result"
    }
   ],
   "source": [
    "train.head()"
   ]
  },
  {
   "cell_type": "code",
   "execution_count": 446,
   "id": "10586aae-8aaa-4cc5-872e-1d78c2123113",
   "metadata": {},
   "outputs": [
    {
     "data": {
      "text/html": [
       "<div>\n",
       "<style scoped>\n",
       "    .dataframe tbody tr th:only-of-type {\n",
       "        vertical-align: middle;\n",
       "    }\n",
       "\n",
       "    .dataframe tbody tr th {\n",
       "        vertical-align: top;\n",
       "    }\n",
       "\n",
       "    .dataframe thead th {\n",
       "        text-align: right;\n",
       "    }\n",
       "</style>\n",
       "<table border=\"1\" class=\"dataframe\">\n",
       "  <thead>\n",
       "    <tr style=\"text-align: right;\">\n",
       "      <th></th>\n",
       "      <th>PassengerId</th>\n",
       "      <th>Survived</th>\n",
       "      <th>Pclass</th>\n",
       "      <th>Age</th>\n",
       "      <th>SibSp</th>\n",
       "      <th>Parch</th>\n",
       "      <th>Fare</th>\n",
       "    </tr>\n",
       "  </thead>\n",
       "  <tbody>\n",
       "    <tr>\n",
       "      <th>count</th>\n",
       "      <td>891.000000</td>\n",
       "      <td>891.000000</td>\n",
       "      <td>891.000000</td>\n",
       "      <td>714.000000</td>\n",
       "      <td>891.000000</td>\n",
       "      <td>891.000000</td>\n",
       "      <td>891.000000</td>\n",
       "    </tr>\n",
       "    <tr>\n",
       "      <th>mean</th>\n",
       "      <td>446.000000</td>\n",
       "      <td>0.383838</td>\n",
       "      <td>2.308642</td>\n",
       "      <td>29.699118</td>\n",
       "      <td>0.523008</td>\n",
       "      <td>0.381594</td>\n",
       "      <td>32.204208</td>\n",
       "    </tr>\n",
       "    <tr>\n",
       "      <th>std</th>\n",
       "      <td>257.353842</td>\n",
       "      <td>0.486592</td>\n",
       "      <td>0.836071</td>\n",
       "      <td>14.526497</td>\n",
       "      <td>1.102743</td>\n",
       "      <td>0.806057</td>\n",
       "      <td>49.693429</td>\n",
       "    </tr>\n",
       "    <tr>\n",
       "      <th>min</th>\n",
       "      <td>1.000000</td>\n",
       "      <td>0.000000</td>\n",
       "      <td>1.000000</td>\n",
       "      <td>0.420000</td>\n",
       "      <td>0.000000</td>\n",
       "      <td>0.000000</td>\n",
       "      <td>0.000000</td>\n",
       "    </tr>\n",
       "    <tr>\n",
       "      <th>25%</th>\n",
       "      <td>223.500000</td>\n",
       "      <td>0.000000</td>\n",
       "      <td>2.000000</td>\n",
       "      <td>20.125000</td>\n",
       "      <td>0.000000</td>\n",
       "      <td>0.000000</td>\n",
       "      <td>7.910400</td>\n",
       "    </tr>\n",
       "    <tr>\n",
       "      <th>50%</th>\n",
       "      <td>446.000000</td>\n",
       "      <td>0.000000</td>\n",
       "      <td>3.000000</td>\n",
       "      <td>28.000000</td>\n",
       "      <td>0.000000</td>\n",
       "      <td>0.000000</td>\n",
       "      <td>14.454200</td>\n",
       "    </tr>\n",
       "    <tr>\n",
       "      <th>75%</th>\n",
       "      <td>668.500000</td>\n",
       "      <td>1.000000</td>\n",
       "      <td>3.000000</td>\n",
       "      <td>38.000000</td>\n",
       "      <td>1.000000</td>\n",
       "      <td>0.000000</td>\n",
       "      <td>31.000000</td>\n",
       "    </tr>\n",
       "    <tr>\n",
       "      <th>max</th>\n",
       "      <td>891.000000</td>\n",
       "      <td>1.000000</td>\n",
       "      <td>3.000000</td>\n",
       "      <td>80.000000</td>\n",
       "      <td>8.000000</td>\n",
       "      <td>6.000000</td>\n",
       "      <td>512.329200</td>\n",
       "    </tr>\n",
       "  </tbody>\n",
       "</table>\n",
       "</div>"
      ],
      "text/plain": [
       "       PassengerId    Survived      Pclass         Age       SibSp  \\\n",
       "count   891.000000  891.000000  891.000000  714.000000  891.000000   \n",
       "mean    446.000000    0.383838    2.308642   29.699118    0.523008   \n",
       "std     257.353842    0.486592    0.836071   14.526497    1.102743   \n",
       "min       1.000000    0.000000    1.000000    0.420000    0.000000   \n",
       "25%     223.500000    0.000000    2.000000   20.125000    0.000000   \n",
       "50%     446.000000    0.000000    3.000000   28.000000    0.000000   \n",
       "75%     668.500000    1.000000    3.000000   38.000000    1.000000   \n",
       "max     891.000000    1.000000    3.000000   80.000000    8.000000   \n",
       "\n",
       "            Parch        Fare  \n",
       "count  891.000000  891.000000  \n",
       "mean     0.381594   32.204208  \n",
       "std      0.806057   49.693429  \n",
       "min      0.000000    0.000000  \n",
       "25%      0.000000    7.910400  \n",
       "50%      0.000000   14.454200  \n",
       "75%      0.000000   31.000000  \n",
       "max      6.000000  512.329200  "
      ]
     },
     "execution_count": 446,
     "metadata": {},
     "output_type": "execute_result"
    }
   ],
   "source": [
    "train.describe()"
   ]
  },
  {
   "cell_type": "code",
   "execution_count": 447,
   "id": "83528dc5-9b1a-4ab7-8f69-157ebc9e0092",
   "metadata": {},
   "outputs": [
    {
     "data": {
      "text/plain": [
       "PassengerId      0\n",
       "Survived         0\n",
       "Pclass           0\n",
       "Name             0\n",
       "Sex              0\n",
       "Age            177\n",
       "SibSp            0\n",
       "Parch            0\n",
       "Ticket           0\n",
       "Fare             0\n",
       "Cabin          687\n",
       "Embarked         2\n",
       "dtype: int64"
      ]
     },
     "execution_count": 447,
     "metadata": {},
     "output_type": "execute_result"
    }
   ],
   "source": [
    "train.isnull().sum()\n"
   ]
  },
  {
   "cell_type": "markdown",
   "id": "542fd84b-4c2b-44dc-8eaf-ed235995f49d",
   "metadata": {},
   "source": [
    "### Check if each Pclass has different Age mean in order to replace with correct Mean value"
   ]
  },
  {
   "cell_type": "code",
   "execution_count": 448,
   "id": "ef141bd2-98e4-48b6-b509-5c63f7d8fa20",
   "metadata": {},
   "outputs": [
    {
     "data": {
      "image/png": "[encoded data removed]",
      "text/plain": [
       "<Figure size 1500x1000 with 1 Axes>"
      ]
     },
     "metadata": {},
     "output_type": "display_data"
    }
   ],
   "source": [
    "plt.figure(figsize=(15,10))\n",
    "sns.boxplot(x='Pclass', y='Age', data=train)\n",
    "plt.show()"
   ]
  },
  {
   "cell_type": "code",
   "execution_count": 449,
   "id": "67b7d12f-8834-4a51-85a5-d134242cd6f3",
   "metadata": {},
   "outputs": [
    {
     "data": {
      "image/png": "[encoded data removed]",
      "text/plain": [
       "<Figure size 1500x1000 with 1 Axes>"
      ]
     },
     "metadata": {},
     "output_type": "display_data"
    }
   ],
   "source": [
    "plt.figure(figsize=(15,10))\n",
    "sns.boxplot(x='Pclass', y='Age', data=X_test)\n",
    "plt.show()"
   ]
  },
  {
   "cell_type": "markdown",
   "id": "ad55af3c-5003-4e24-8c28-a8710b2d75d5",
   "metadata": {},
   "source": [
    "## Feature Engineering "
   ]
  },
  {
   "cell_type": "markdown",
   "id": "addd25a9-e62b-47d9-837e-3358853f365b",
   "metadata": {},
   "source": [
    "### Calculate the mean of each Pclass and Replace with NaN values"
   ]
  },
  {
   "cell_type": "code",
   "execution_count": 450,
   "id": "dafb307d-e0a0-4799-ba55-b74bb2143fc0",
   "metadata": {},
   "outputs": [
    {
     "name": "stdout",
     "output_type": "stream",
     "text": [
      "Pclass\n",
      "1    38.233441\n",
      "2    29.877630\n",
      "3    25.140620\n",
      "Name: Age, dtype: float64\n",
      "Pclass\n",
      "1    40.918367\n",
      "2    28.777500\n",
      "3    24.027945\n",
      "Name: Age, dtype: float64\n"
     ]
    }
   ],
   "source": [
    "mean_age_by_pclass = train.groupby('Pclass')['Age'].mean()\n",
    "mean_age_by_pclasstest = X_test.groupby('Pclass')['Age'].mean()\n",
    "\n",
    "print(mean_age_by_pclass)\n",
    "print(mean_age_by_pclasstest)\n"
   ]
  },
  {
   "cell_type": "code",
   "execution_count": 451,
   "id": "cfdcb9e4-119a-4ac8-8d21-efb5dbd47bd2",
   "metadata": {},
   "outputs": [],
   "source": [
    "def replaceAgetrain(row):\n",
    "    Age = row['Age']\n",
    "    Pclass = row['Pclass']\n",
    "\n",
    "    if pd.isnull(Age):  # Use pd.isnull to check for NaN\n",
    "        if Pclass == 1:  # Corrected the equality check (use == instead of =)\n",
    "            return 40\n",
    "        elif Pclass == 2:  # Use elif for multiple conditions\n",
    "            return 28\n",
    "        else:\n",
    "            return 24  # Default for other Pclasses\n",
    "    else:\n",
    "        return Age\n",
    "\n",
    "\n",
    "def replaceAgetest(row):\n",
    "    Age = row['Age']\n",
    "    Pclass = row['Pclass']\n",
    "\n",
    "    if pd.isnull(Age):  # Use pd.isnull to check for NaN\n",
    "        if Pclass == 1:  # Corrected the equality check (use == instead of =)\n",
    "            return 38\n",
    "        elif Pclass == 2:  # Use elif for multiple conditions\n",
    "            return 29\n",
    "        else:\n",
    "            return 25  # Default for other Pclasses\n",
    "    else:\n",
    "        return Age\n",
    "\n",
    "\n",
    "        \n",
    "\n",
    "        "
   ]
  },
  {
   "cell_type": "code",
   "execution_count": 452,
   "id": "8239774e-6b4f-4f72-a625-eddc88430d95",
   "metadata": {},
   "outputs": [],
   "source": [
    "train['Age'] = train.apply(replaceAge, axis=1)\n",
    "X_test['Age'] = X_test.apply(replaceAge, axis=1)\n",
    "\n"
   ]
  },
  {
   "cell_type": "markdown",
   "id": "a79b0741-ea69-4c6a-ae1d-0743c0a71648",
   "metadata": {},
   "source": [
    "## Dropping the columns we don't need "
   ]
  },
  {
   "cell_type": "code",
   "execution_count": 453,
   "id": "a8207331-4ac7-4453-9d7f-79e708f2c646",
   "metadata": {},
   "outputs": [],
   "source": [
    "train.drop(['Ticket','Cabin','Name'],inplace=True,axis=1)\n",
    "X_test.drop(['Ticket','Cabin','Name'],inplace=True,axis=1)"
   ]
  },
  {
   "cell_type": "markdown",
   "id": "0c69461f-5e7f-4d67-86e0-de9b6cc11fc3",
   "metadata": {},
   "source": [
    "### Handle Missing values from Cabin and create hasCabin"
   ]
  },
  {
   "cell_type": "code",
   "execution_count": 454,
   "id": "69a1f267-e78c-40df-ad72-5cf0dde15073",
   "metadata": {},
   "outputs": [],
   "source": [
    "# # Fill missing values for the 'Cabin' column and create 'HasCabin' feature\n",
    "# train['Cabin'] = train['Cabin'].fillna(0)\n",
    "# train['HasCabin'] = train['Cabin'].notnull().astype(int)\n",
    "\n",
    "# # Drop 'Cabin' after creating the 'HasCabin' feature\n",
    "# train.drop(['Cabin'], inplace=True, axis=1)\n",
    "# X_test.drop(['Cabin'], inplace=True, axis=1, errors='ignore')"
   ]
  },
  {
   "cell_type": "markdown",
   "id": "4670e0f0-fcd2-4f35-8769-56c864cf529b",
   "metadata": {},
   "source": [
    "### Drop missing values from embarked"
   ]
  },
  {
   "cell_type": "code",
   "execution_count": 455,
   "id": "cdc827cf-32f8-4bc7-ac4c-4658ee755e77",
   "metadata": {},
   "outputs": [],
   "source": [
    "train=train.dropna(axis=0,how='any')"
   ]
  },
  {
   "cell_type": "markdown",
   "id": "fc47fa54-faae-4905-b2af-a2a6687d46de",
   "metadata": {},
   "source": [
    "### Check the corellation between the genders and the survival "
   ]
  },
  {
   "cell_type": "code",
   "execution_count": 456,
   "id": "2a73685e-e9c3-4879-a2b8-f823d271abfb",
   "metadata": {},
   "outputs": [
    {
     "data": {
      "text/plain": [
       "<Axes: xlabel='Survived', ylabel='count'>"
      ]
     },
     "execution_count": 456,
     "metadata": {},
     "output_type": "execute_result"
    },
    {
     "data": {
      "image/png": "[encoded data removed]",
      "text/plain": [
       "<Figure size 640x480 with 1 Axes>"
      ]
     },
     "metadata": {},
     "output_type": "display_data"
    }
   ],
   "source": [
    "sns.countplot(x= 'Survived',hue='Sex',data=train)\n"
   ]
  },
  {
   "cell_type": "markdown",
   "id": "2be453af-a023-4bf7-999f-098582eae936",
   "metadata": {},
   "source": [
    "### We can identify that males tend not to survive therefore we will have a feature male "
   ]
  },
  {
   "cell_type": "code",
   "execution_count": 457,
   "id": "c59bb258-b5b4-476b-a85a-19bf18fedcdb",
   "metadata": {},
   "outputs": [],
   "source": [
    "# sex=pd.get_dummies(train['Sex'],drop_first=True)\n",
    "\n",
    "\n"
   ]
  },
  {
   "cell_type": "markdown",
   "id": "ab6e2b5e-a62a-400a-954e-1815d192d87c",
   "metadata": {},
   "source": [
    "### Checking the distribution of the fare price "
   ]
  },
  {
   "cell_type": "code",
   "execution_count": 458,
   "id": "5bf48a5e-807c-4fd9-9460-02a41c719990",
   "metadata": {},
   "outputs": [
    {
     "data": {
      "text/plain": [
       "<Axes: xlabel='Fare', ylabel='Count'>"
      ]
     },
     "execution_count": 458,
     "metadata": {},
     "output_type": "execute_result"
    },
    {
     "data": {
      "image/png": "[encoded data removed]",
      "text/plain": [
       "<Figure size 1500x500 with 1 Axes>"
      ]
     },
     "metadata": {},
     "output_type": "display_data"
    }
   ],
   "source": [
    "plt.figure(figsize=(15,5))\n",
    "sns.histplot(train['Fare'],bins=40)"
   ]
  },
  {
   "cell_type": "markdown",
   "id": "a9375b8f-0ead-4f60-8450-07ecc025b72d",
   "metadata": {},
   "source": [
    "### We can clearly see that the distribution of fare prices is not 'normal' (Gaussian); therefore, we apply np.log to make it more normal"
   ]
  },
  {
   "cell_type": "code",
   "execution_count": 459,
   "id": "778c81df-fe86-4490-b88c-deeecbb0348c",
   "metadata": {},
   "outputs": [
    {
     "data": {
      "image/png": "[encoded data removed]",
      "text/plain": [
       "<Figure size 1500x500 with 1 Axes>"
      ]
     },
     "metadata": {},
     "output_type": "display_data"
    }
   ],
   "source": [
    "train_fare = train['Fare'].map(lambda i: np.log(i) if i > 0 else 0)\n",
    "plt.figure(figsize=(15,5))\n",
    "sns.histplot(train_fare,bins=40)\n",
    "\n",
    "fare=train['Fare'].map(lambda i: np.log(i) if i > 0 else 0)\n"
   ]
  },
  {
   "cell_type": "markdown",
   "id": "5c35fc60-9122-4c58-b18f-988f628221d8",
   "metadata": {},
   "source": [
    "### One - Hot encoding the Embarked and sex and dropping missing values "
   ]
  },
  {
   "cell_type": "code",
   "execution_count": 460,
   "id": "b0929f57-a0d7-4b0e-a09a-7edc5930d279",
   "metadata": {},
   "outputs": [],
   "source": [
    "sex=pd.get_dummies(train['Sex'],drop_first=True, dtype=int)\n",
    "emb=pd.get_dummies(train['Embarked'],drop_first=True,dtype=int)"
   ]
  },
  {
   "cell_type": "code",
   "execution_count": 461,
   "id": "77a817ff-365c-4455-914f-65e837c8a599",
   "metadata": {},
   "outputs": [],
   "source": [
    "y_train=train['Survived']\n",
    "train.drop(['Embarked','Sex','Survived','Fare'],inplace=True,axis=1)"
   ]
  },
  {
   "cell_type": "markdown",
   "id": "b09daaf8-784b-446c-b828-331ed0ec4680",
   "metadata": {},
   "source": [
    "## Create the training set by spliting into Y and X training sets "
   ]
  },
  {
   "cell_type": "code",
   "execution_count": 462,
   "id": "346dc2f0-fa8c-4dd4-8239-2e34a9383b2b",
   "metadata": {},
   "outputs": [
    {
     "data": {
      "text/html": [
       "<div>\n",
       "<style scoped>\n",
       "    .dataframe tbody tr th:only-of-type {\n",
       "        vertical-align: middle;\n",
       "    }\n",
       "\n",
       "    .dataframe tbody tr th {\n",
       "        vertical-align: top;\n",
       "    }\n",
       "\n",
       "    .dataframe thead th {\n",
       "        text-align: right;\n",
       "    }\n",
       "</style>\n",
       "<table border=\"1\" class=\"dataframe\">\n",
       "  <thead>\n",
       "    <tr style=\"text-align: right;\">\n",
       "      <th></th>\n",
       "      <th>PassengerId</th>\n",
       "      <th>Pclass</th>\n",
       "      <th>Age</th>\n",
       "      <th>SibSp</th>\n",
       "      <th>Parch</th>\n",
       "      <th>male</th>\n",
       "      <th>Q</th>\n",
       "      <th>S</th>\n",
       "      <th>Fare</th>\n",
       "    </tr>\n",
       "  </thead>\n",
       "  <tbody>\n",
       "    <tr>\n",
       "      <th>0</th>\n",
       "      <td>1</td>\n",
       "      <td>3</td>\n",
       "      <td>22.0</td>\n",
       "      <td>1</td>\n",
       "      <td>0</td>\n",
       "      <td>1</td>\n",
       "      <td>0</td>\n",
       "      <td>1</td>\n",
       "      <td>1.981001</td>\n",
       "    </tr>\n",
       "    <tr>\n",
       "      <th>1</th>\n",
       "      <td>2</td>\n",
       "      <td>1</td>\n",
       "      <td>38.0</td>\n",
       "      <td>1</td>\n",
       "      <td>0</td>\n",
       "      <td>0</td>\n",
       "      <td>0</td>\n",
       "      <td>0</td>\n",
       "      <td>4.266662</td>\n",
       "    </tr>\n",
       "    <tr>\n",
       "      <th>2</th>\n",
       "      <td>3</td>\n",
       "      <td>3</td>\n",
       "      <td>26.0</td>\n",
       "      <td>0</td>\n",
       "      <td>0</td>\n",
       "      <td>0</td>\n",
       "      <td>0</td>\n",
       "      <td>1</td>\n",
       "      <td>2.070022</td>\n",
       "    </tr>\n",
       "    <tr>\n",
       "      <th>3</th>\n",
       "      <td>4</td>\n",
       "      <td>1</td>\n",
       "      <td>35.0</td>\n",
       "      <td>1</td>\n",
       "      <td>0</td>\n",
       "      <td>0</td>\n",
       "      <td>0</td>\n",
       "      <td>1</td>\n",
       "      <td>3.972177</td>\n",
       "    </tr>\n",
       "    <tr>\n",
       "      <th>4</th>\n",
       "      <td>5</td>\n",
       "      <td>3</td>\n",
       "      <td>35.0</td>\n",
       "      <td>0</td>\n",
       "      <td>0</td>\n",
       "      <td>1</td>\n",
       "      <td>0</td>\n",
       "      <td>1</td>\n",
       "      <td>2.085672</td>\n",
       "    </tr>\n",
       "    <tr>\n",
       "      <th>...</th>\n",
       "      <td>...</td>\n",
       "      <td>...</td>\n",
       "      <td>...</td>\n",
       "      <td>...</td>\n",
       "      <td>...</td>\n",
       "      <td>...</td>\n",
       "      <td>...</td>\n",
       "      <td>...</td>\n",
       "      <td>...</td>\n",
       "    </tr>\n",
       "    <tr>\n",
       "      <th>886</th>\n",
       "      <td>887</td>\n",
       "      <td>2</td>\n",
       "      <td>27.0</td>\n",
       "      <td>0</td>\n",
       "      <td>0</td>\n",
       "      <td>1</td>\n",
       "      <td>0</td>\n",
       "      <td>1</td>\n",
       "      <td>2.564949</td>\n",
       "    </tr>\n",
       "    <tr>\n",
       "      <th>887</th>\n",
       "      <td>888</td>\n",
       "      <td>1</td>\n",
       "      <td>19.0</td>\n",
       "      <td>0</td>\n",
       "      <td>0</td>\n",
       "      <td>0</td>\n",
       "      <td>0</td>\n",
       "      <td>1</td>\n",
       "      <td>3.401197</td>\n",
       "    </tr>\n",
       "    <tr>\n",
       "      <th>888</th>\n",
       "      <td>889</td>\n",
       "      <td>3</td>\n",
       "      <td>25.0</td>\n",
       "      <td>1</td>\n",
       "      <td>2</td>\n",
       "      <td>0</td>\n",
       "      <td>0</td>\n",
       "      <td>1</td>\n",
       "      <td>3.154870</td>\n",
       "    </tr>\n",
       "    <tr>\n",
       "      <th>889</th>\n",
       "      <td>890</td>\n",
       "      <td>1</td>\n",
       "      <td>26.0</td>\n",
       "      <td>0</td>\n",
       "      <td>0</td>\n",
       "      <td>1</td>\n",
       "      <td>0</td>\n",
       "      <td>0</td>\n",
       "      <td>3.401197</td>\n",
       "    </tr>\n",
       "    <tr>\n",
       "      <th>890</th>\n",
       "      <td>891</td>\n",
       "      <td>3</td>\n",
       "      <td>32.0</td>\n",
       "      <td>0</td>\n",
       "      <td>0</td>\n",
       "      <td>1</td>\n",
       "      <td>1</td>\n",
       "      <td>0</td>\n",
       "      <td>2.047693</td>\n",
       "    </tr>\n",
       "  </tbody>\n",
       "</table>\n",
       "<p>889 rows × 9 columns</p>\n",
       "</div>"
      ],
      "text/plain": [
       "     PassengerId  Pclass   Age  SibSp  Parch  male  Q  S      Fare\n",
       "0              1       3  22.0      1      0     1  0  1  1.981001\n",
       "1              2       1  38.0      1      0     0  0  0  4.266662\n",
       "2              3       3  26.0      0      0     0  0  1  2.070022\n",
       "3              4       1  35.0      1      0     0  0  1  3.972177\n",
       "4              5       3  35.0      0      0     1  0  1  2.085672\n",
       "..           ...     ...   ...    ...    ...   ... .. ..       ...\n",
       "886          887       2  27.0      0      0     1  0  1  2.564949\n",
       "887          888       1  19.0      0      0     0  0  1  3.401197\n",
       "888          889       3  25.0      1      2     0  0  1  3.154870\n",
       "889          890       1  26.0      0      0     1  0  0  3.401197\n",
       "890          891       3  32.0      0      0     1  1  0  2.047693\n",
       "\n",
       "[889 rows x 9 columns]"
      ]
     },
     "execution_count": 462,
     "metadata": {},
     "output_type": "execute_result"
    }
   ],
   "source": [
    "\n",
    "X_train=pd.concat([train,sex,emb,fare],axis=1)\n",
    "\n",
    "\n",
    "\n",
    "y_test.drop('PassengerId',inplace=True,axis=1)\n",
    "\n",
    "\n",
    "\n",
    "X_train\n",
    "\n"
   ]
  },
  {
   "cell_type": "markdown",
   "id": "0210d992-937f-4cef-b15e-d7bd80e62c3b",
   "metadata": {},
   "source": [
    "# Logistic Regression"
   ]
  },
  {
   "cell_type": "code",
   "execution_count": 463,
   "id": "4388a0e0-ad9f-4d8f-9371-4a299e213195",
   "metadata": {},
   "outputs": [],
   "source": [
    "# Drop rows with any missing values\n",
    "X_train = X_train.dropna()\n",
    "y_train = y_train.loc[X_train.index]  # Ensure y_train aligns with X_train\n",
    "test_fare=X_test['Fare'].map(lambda i: np.log(i) if i > 0 else 0)\n",
    "test_sex=pd.get_dummies(X_test['Sex'],drop_first=True)\n",
    "test_emb=pd.get_dummies(X_test['Embarked'],drop_first=True)\n",
    "X_test.drop(['Embarked','Sex','Fare'],inplace=True,axis=1)\n",
    "X_test=pd.concat([X_test,test_sex,test_emb,test_fare],axis=1)\n",
    "Y_test=pd.concat([X_test,test_sex,test_emb,test_fare,y_test],axis=1)\n",
    "Y_test=Y_test.dropna(axis=0,how='any')\n",
    "y_test=Y_test['Survived']\n",
    "\n",
    "\n",
    "\n",
    "test_passenger_ids = X_test['PassengerId']\n"
   ]
  },
  {
   "cell_type": "code",
   "execution_count": 472,
   "id": "e50f2585-f63c-4ee2-b753-6f2cf9df3574",
   "metadata": {},
   "outputs": [
    {
     "name": "stdout",
     "output_type": "stream",
     "text": [
      "✅ Submission file created: submission.csv\n",
      "✅ Accuracy: 0.9330143540669856\n",
      "📋 Classification Report:\n",
      "               precision    recall  f1-score   support\n",
      "\n",
      "           0       0.97      0.92      0.95       266\n",
      "           1       0.87      0.95      0.91       152\n",
      "\n",
      "    accuracy                           0.93       418\n",
      "   macro avg       0.92      0.94      0.93       418\n",
      "weighted avg       0.94      0.93      0.93       418\n",
      "\n",
      "🧱 Confusion Matrix:\n",
      " [[245  21]\n",
      " [  7 145]]\n",
      "📉 Mean Squared Error: 0.06698564593301436\n"
     ]
    },
    {
     "name": "stderr",
     "output_type": "stream",
     "text": [
      "C:\\Users\\Asus\\AppData\\Local\\Packages\\PythonSoftwareFoundation.Python.3.11_qbz5n2kfra8p0\\LocalCache\\local-packages\\Python311\\site-packages\\sklearn\\linear_model\\_logistic.py:469: ConvergenceWarning: lbfgs failed to converge (status=1):\n",
      "STOP: TOTAL NO. of ITERATIONS REACHED LIMIT.\n",
      "\n",
      "Increase the number of iterations (max_iter) or scale the data as shown in:\n",
      "    https://scikit-learn.org/stable/modules/preprocessing.html\n",
      "Please also refer to the documentation for alternative solver options:\n",
      "    https://scikit-learn.org/stable/modules/linear_model.html#logistic-regression\n",
      "  n_iter_i = _check_optimize_result(\n"
     ]
    }
   ],
   "source": [
    "model = LogisticRegression(max_iter=500)\n",
    "model.fit(X_train, y_train)\n",
    "\n",
    "# --- Predict ---\n",
    "predictions = model.predict(X_test)\n",
    "\n",
    "# --- Submission ---\n",
    "submission = pd.DataFrame({\n",
    "    'PassengerId': test_passenger_ids,\n",
    "    'Survived': predictions.astype(int)\n",
    "})\n",
    "\n",
    "# Save to CSV\n",
    "submission.to_csv('submission3.csv', index=False)\n",
    "print(\"✅ Submission file created: submission.csv\")\n",
    "# Evaluate the model\n",
    "print(\"✅ Accuracy:\", accuracy_score(y_test, y_pred))\n",
    "print(\"📋 Classification Report:\\n\", classification_report(y_test, y_pred))\n",
    "print(\"🧱 Confusion Matrix:\\n\", confusion_matrix(y_test, y_pred))\n",
    "\n",
    "mse = mean_squared_error(y_test, y_pred)\n",
    "print(\"📉 Mean Squared Error:\", mse)"
   ]
  },
  {
   "cell_type": "markdown",
   "id": "21c0ef49-4f72-4efe-91d2-07f8ba96dd0e",
   "metadata": {},
   "source": [
    "# Random Forest"
   ]
  },
  {
   "cell_type": "code",
   "execution_count": 465,
   "id": "dedaaaf8-63fa-40b2-ac68-9c717f18b04c",
   "metadata": {},
   "outputs": [],
   "source": [
    "rnd_clf=RandomForestClassifier(n_estimators=1000,max_leaf_nodes=16,n_jobs=-1)\n",
    "rnd_clf.fit(X_train,y_train)\n",
    "y_pred=rnd_clf.predict(X_test)"
   ]
  },
  {
   "cell_type": "code",
   "execution_count": 466,
   "id": "5fc6eb3d-4b56-463c-8222-4ba6e9d970db",
   "metadata": {},
   "outputs": [
    {
     "name": "stdout",
     "output_type": "stream",
     "text": [
      "Index(['PassengerId', 'Pclass', 'Age', 'SibSp', 'Parch', 'male', 'Q', 'S',\n",
      "       'Fare'],\n",
      "      dtype='object')\n",
      "Index(['PassengerId', 'Pclass', 'Age', 'SibSp', 'Parch', 'male', 'Q', 'S',\n",
      "       'Fare'],\n",
      "      dtype='object')\n"
     ]
    }
   ],
   "source": [
    "print(X_train.columns)\n",
    "print(X_test.columns)\n"
   ]
  },
  {
   "cell_type": "code",
   "execution_count": 467,
   "id": "0cab69de-f404-4c6e-bf96-ef3d5762514d",
   "metadata": {},
   "outputs": [
    {
     "name": "stdout",
     "output_type": "stream",
     "text": [
      "0.8779904306220095\n",
      "              precision    recall  f1-score   support\n",
      "\n",
      "           0       0.86      0.96      0.91       266\n",
      "           1       0.91      0.74      0.81       152\n",
      "\n",
      "    accuracy                           0.88       418\n",
      "   macro avg       0.89      0.85      0.86       418\n",
      "weighted avg       0.88      0.88      0.87       418\n",
      "\n",
      "[[255  11]\n",
      " [ 40 112]]\n"
     ]
    }
   ],
   "source": [
    "print(accuracy_score(y_test,y_pred))\n",
    "print(classification_report(y_test,y_pred))\n",
    "print(confusion_matrix(y_test,y_pred))"
   ]
  },
  {
   "cell_type": "markdown",
   "id": "c069400a-5e4f-4c0b-bf08-01a58e9c6c12",
   "metadata": {},
   "source": [
    "# XGboost"
   ]
  },
  {
   "cell_type": "code",
   "execution_count": 468,
   "id": "bf858794-b99d-495b-8ac4-d74b756414f4",
   "metadata": {},
   "outputs": [
    {
     "name": "stdout",
     "output_type": "stream",
     "text": [
      "✅ Accuracy: 0.8181818181818182\n",
      "📋 Classification Report:\n",
      "               precision    recall  f1-score   support\n",
      "\n",
      "           0       0.85      0.86      0.86       266\n",
      "           1       0.75      0.74      0.75       152\n",
      "\n",
      "    accuracy                           0.82       418\n",
      "   macro avg       0.80      0.80      0.80       418\n",
      "weighted avg       0.82      0.82      0.82       418\n",
      "\n",
      "🧱 Confusion Matrix:\n",
      " [[229  37]\n",
      " [ 39 113]]\n"
     ]
    },
    {
     "name": "stderr",
     "output_type": "stream",
     "text": [
      "C:\\Users\\Asus\\AppData\\Local\\Packages\\PythonSoftwareFoundation.Python.3.11_qbz5n2kfra8p0\\LocalCache\\local-packages\\Python311\\site-packages\\xgboost\\training.py:183: UserWarning: [17:36:44] WARNING: C:\\actions-runner\\_work\\xgboost\\xgboost\\src\\learner.cc:738: \n",
      "Parameters: { \"use_label_encoder\" } are not used.\n",
      "\n",
      "  bst.update(dtrain, iteration=i, fobj=obj)\n"
     ]
    }
   ],
   "source": [
    "# Create an XGBoost Classifier\n",
    "xgb_model = xgb.XGBClassifier(use_label_encoder=False, eval_metric='logloss')\n",
    "\n",
    "# Train the model\n",
    "xgb_model.fit(X_train, y_train)\n",
    "\n",
    "# Make predictions\n",
    "y_pred = xgb_model.predict(X_test)\n",
    "\n",
    "print(\"✅ Accuracy:\", accuracy_score(y_test, y_pred))\n",
    "print(\"📋 Classification Report:\\n\", classification_report(y_test, y_pred))\n",
    "print(\"🧱 Confusion Matrix:\\n\", confusion_matrix(y_test, y_pred))"
   ]
  },
  {
   "cell_type": "code",
   "execution_count": null,
   "id": "c5a40629-e8bc-42d9-a368-d075ff18fa80",
   "metadata": {},
   "outputs": [],
   "source": []
  },
  {
   "cell_type": "code",
   "execution_count": null,
   "id": "b0a93c59-8331-4f25-a4c2-3d4b021e7876",
   "metadata": {},
   "outputs": [],
   "source": []
  },
  {
   "cell_type": "code",
   "execution_count": null,
   "id": "30db29d8-24e4-468e-8d4a-7408656b5c01",
   "metadata": {},
   "outputs": [],
   "source": []
  },
  {
   "cell_type": "code",
   "execution_count": null,
   "id": "439e5cf4-e485-4db2-92c2-65cc4e59ad54",
   "metadata": {},
   "outputs": [],
   "source": []
  },
  {
   "cell_type": "code",
   "execution_count": null,
   "id": "2ea623ad-e7ca-492e-9832-d6225d4c914c",
   "metadata": {},
   "outputs": [],
   "source": []
  },
  {
   "cell_type": "code",
   "execution_count": null,
   "id": "a0b78fd7-1d6b-49c1-a3d3-d7a714c5c092",
   "metadata": {},
   "outputs": [],
   "source": []
  },
  {
   "cell_type": "code",
   "execution_count": null,
   "id": "ada32034-0128-4650-b167-570ee3467c5b",
   "metadata": {},
   "outputs": [],
   "source": []
  },
  {
   "cell_type": "code",
   "execution_count": null,
   "id": "2f68b8e7-02d8-485b-ae1a-25d4b9b902dc",
   "metadata": {},
   "outputs": [],
   "source": []
  },
  {
   "cell_type": "code",
   "execution_count": null,
   "id": "efc505ab-445f-40b1-b4af-460710387c35",
   "metadata": {},
   "outputs": [],
   "source": []
  },
  {
   "cell_type": "code",
   "execution_count": null,
   "id": "1d2b0988-1639-4340-a71c-0c77f8f727b0",
   "metadata": {},
   "outputs": [],
   "source": []
  },
  {
   "cell_type": "code",
   "execution_count": null,
   "id": "8e689e47-980c-4da7-a9c1-25566debf028",
   "metadata": {},
   "outputs": [],
   "source": []
  },
  {
   "cell_type": "code",
   "execution_count": null,
   "id": "c85b5948-4b6f-4b54-93ac-3b4fb1fef171",
   "metadata": {},
   "outputs": [],
   "source": []
  },
  {
   "cell_type": "code",
   "execution_count": null,
   "id": "5adb771e-f999-45a4-8dea-576514d20f71",
   "metadata": {},
   "outputs": [],
   "source": []
  },
  {
   "cell_type": "code",
   "execution_count": null,
   "id": "776aefdf-3a2f-4b7a-8985-0a667fdd1f86",
   "metadata": {},
   "outputs": [],
   "source": []
  },
  {
   "cell_type": "code",
   "execution_count": null,
   "id": "d478c5d2-cc1f-4843-b4cc-c3abfa782535",
   "metadata": {},
   "outputs": [],
   "source": []
  },
  {
   "cell_type": "code",
   "execution_count": null,
   "id": "800ec3b0-41e4-4693-a4f7-75122995debc",
   "metadata": {},
   "outputs": [],
   "source": []
  }
 ],
 "metadata": {
  "kernelspec": {
   "display_name": "Python 3 (ipykernel)",
   "language": "python",
   "name": "python3"
  },
  "language_info": {
   "codemirror_mode": {
    "name": "ipython",
    "version": 3
   },
   "file_extension": ".py",
   "mimetype": "text/x-python",
   "name": "python",
   "nbconvert_exporter": "python",
   "pygments_lexer": "ipython3",
   "version": "3.11.9"
  }
 },
 "nbformat": 4,
 "nbformat_minor": 5
}
